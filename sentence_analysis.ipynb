{
 "cells": [
  {
   "cell_type": "code",
   "execution_count": 133,
   "metadata": {},
   "outputs": [],
   "source": [
    "import json\n",
    "import sys\n",
    "import nltk.data\n",
    "\n",
    "reload(sys)\n",
    "sys.setdefaultencoding('utf8')\n",
    "lotr = open(\"books/lotr.txt\", \"r\")\n",
    "\n",
    "tokenizer = nltk.data.load('tokenizers/punkt/english.pickle')\n",
    "sentences = tokenizer.tokenize(unicode(lotr.read()))\n",
    "\n",
    "phonemes = open(\"phonemes.txt\", \"r\").readlines()\n",
    "\n",
    "escore = open(\"euphony-scores.txt\", \"r\").readlines()\n",
    "\n",
    "data = zip(sentences, escore1)\n",
    "data = sorted(data1, key=lambda x: float(x[1]))"
   ]
  },
  {
   "cell_type": "code",
   "execution_count": 134,
   "metadata": {},
   "outputs": [
    {
     "data": {
      "text/plain": [
       "[(u'You are leaving the Shire, and yet you doubt that you will find what you seek, or accomplish what you intend, or that you will ever return.',\n",
       "  '4.830613\\n'),\n",
       " (u'But if I may counsel you in the use of your own, do not use it \\u2013 yet!',\n",
       "  '4.830665\\n'),\n",
       " (u'An occasional Bucklander or adventurous Took would come out to the Inn for a night or two, but even that was becoming less and less usual.',\n",
       "  '4.845188\\n'),\n",
       " (u'You don\\u2019t belong here; you\\u2019re no Baggins \\u2013 you \\u2013 you\\u2019re a Brandybuck!\\u2019\\r\\n\\r\\n\\u2018Did you hear that, Merry?',\n",
       "  '4.859582\\n'),\n",
       " (u'The arrangement is the one most usual at the time, and the one in which the letters were then usually recited by name.',\n",
       "  '4.885444\\n'),\n",
       " (u'143\\r\\n\\r\\nWe come, we come with horn and drum: ta-r\\u016bna r\\u016bna r\\u016bna rom!',\n",
       "  '4.898427\\n'),\n",
       " (u'Tom Bom, jolly Tom, Tom Bombadillo!', '4.904949\\n'),\n",
       " (u'Let them take provision, but delay not, nor burden themselves with treasures, great or small.',\n",
       "  '4.929196\\n'),\n",
       " (u'Have you seen him?\\u2019 said a muffled voice \\u2013 but the voice was the voice of Merry Brandybuck.',\n",
       "  '4.966629\\n'),\n",
       " (u'On this occasion the presents were unusually good.', '4.976157\\n'),\n",
       " (u'In June he learned that any more revisions were too late for inclusion in the 1966 Allen & Unwin second edition, and he recorded in his diary: \\u2018But I am attempting to complete my work [on the revisions] \\u2013 I cannot leave it while it is all in my mind.',\n",
       "  '4.983494\\n'),\n",
       " (u'Soon after this he sent a small number of further revisions to Ballantine for the appendices, including the now well-known addition of \\u2018Estella Bolger\\u2019 as wife of Meriadoc in the family trees in Appendix C. Most of these revisions, which entered variously in the third and fourth impressions (June and August 1966) of volume three, and which were not always inserted correctly (thereby causing further confusion in the text), somehow never made it into the main sequence of revision in the three-volume British hardcover edition, and for long remained anomalies.',\n",
       "  '4.989537\\n'),\n",
       " (u'I do not wish to kill you, or hurt you, as you would know, if you really understood me.',\n",
       "  '5.587253\\n'),\n",
       " (u'\\u2018Do you mean that he is dead, and that you knew it?', '6.046200\\n'),\n",
       " (u'I think this food would do you good, if you would try.', '6.799114\\n'),\n",
       " (u'\\u201cWould you then, lord, before your time leave your people that live by your word?\\u201d she said.',\n",
       "  '6.818994\\n'),\n",
       " (u'When ever you open your big mouth you put your foot in it the Gaffer used to say to me, and right enough.',\n",
       "  '7.052111\\n'),\n",
       " (u'Yes, you too.', '7.085033\\n'),\n",
       " (u'\\u2018You knew you were behaving wrongly and foolishly; and you told yourself so, though you did not listen.',\n",
       "  '7.768682\\n'),\n",
       " (u'Room tum, room tum, roomty toom tum.', '8.914703\\n')]"
      ]
     },
     "execution_count": 134,
     "metadata": {},
     "output_type": "execute_result"
    }
   ],
   "source": [
    "data[-20:]"
   ]
  },
  {
   "cell_type": "code",
   "execution_count": 135,
   "metadata": {},
   "outputs": [
    {
     "data": {
      "text/plain": [
       "0.027377492328793336"
      ]
     },
     "execution_count": 135,
     "metadata": {},
     "output_type": "execute_result"
    }
   ],
   "source": [
    "import numpy as np\n",
    "stripped_data = map(lambda x: float(x[1]), data1)\n",
    "np.mean(stripped_data)"
   ]
  },
  {
   "cell_type": "code",
   "execution_count": 136,
   "metadata": {},
   "outputs": [
    {
     "data": {
      "text/plain": [
       "8.914703"
      ]
     },
     "execution_count": 136,
     "metadata": {},
     "output_type": "execute_result"
    }
   ],
   "source": [
    "max(stripped_data)"
   ]
  },
  {
   "cell_type": "code",
   "execution_count": 137,
   "metadata": {},
   "outputs": [],
   "source": [
    "data2 = zip(phonemes, escore1)\n",
    "data2 = sorted(data2, key=lambda x: float(x[1]))"
   ]
  },
  {
   "cell_type": "code",
   "execution_count": 138,
   "metadata": {},
   "outputs": [
    {
     "data": {
      "text/plain": [
       "('R UW M T AH M R UW M T AH M R UW M T IY T UW M T AH M\\n', '8.914703\\n')"
      ]
     },
     "execution_count": 138,
     "metadata": {},
     "output_type": "execute_result"
    }
   ],
   "source": [
    "data2[-1]"
   ]
  },
  {
   "cell_type": "code",
   "execution_count": 139,
   "metadata": {
    "collapsed": true
   },
   "outputs": [],
   "source": [
    "data1 = zip(sentences, escore1)\n",
    "sigs = filter(lambda x: float(x[1]) > 0.0, data1)"
   ]
  },
  {
   "cell_type": "code",
   "execution_count": 140,
   "metadata": {},
   "outputs": [
    {
     "data": {
      "text/plain": [
       "331"
      ]
     },
     "execution_count": 140,
     "metadata": {},
     "output_type": "execute_result"
    }
   ],
   "source": [
    "len(sigs)"
   ]
  },
  {
   "cell_type": "code",
   "execution_count": 41,
   "metadata": {},
   "outputs": [],
   "source": [
    "f = open(\"euph_sentences.txt\", \"w+\")\n",
    "for s in sigs:\n",
    "    f.write(s[0] + \" \" + str(s[1]) + \"\\n\")"
   ]
  },
  {
   "cell_type": "code",
   "execution_count": 123,
   "metadata": {},
   "outputs": [],
   "source": [
    "speakers = open(\"speakers\").readlines()"
   ]
  },
  {
   "cell_type": "code",
   "execution_count": 124,
   "metadata": {
    "scrolled": true
   },
   "outputs": [],
   "source": [
    "from collections import Counter\n",
    "speakers = map(lambda x: x.split('\\n')[0], speakers)\n",
    "\n",
    "D = Counter(speakers)"
   ]
  },
  {
   "cell_type": "code",
   "execution_count": 125,
   "metadata": {
    "scrolled": true
   },
   "outputs": [
    {
     "data": {
      "image/png": "[encoded data removed]",
      "text/plain": [
       "<matplotlib.figure.Figure at 0x7f56c9105c10>"
      ]
     },
     "metadata": {},
     "output_type": "display_data"
    }
   ],
   "source": [
    "import matplotlib.pyplot as plt\n",
    "\n",
    "plt.figure(figsize=(12, 3))\n",
    "plt.bar(range(len(D)), D.values(), align='center', width=0.75)\n",
    "plt.xticks(range(len(D)), D.keys(), rotation='vertical')\n",
    "plt.show()"
   ]
  },
  {
   "cell_type": "code",
   "execution_count": 126,
   "metadata": {},
   "outputs": [
    {
     "data": {
      "text/plain": [
       "Counter({'Aragorn': 17,\n",
       "         'Arwen': 3,\n",
       "         'Beregond': 2,\n",
       "         'Bergil': 1,\n",
       "         'Bilbo': 9,\n",
       "         'Black Rider': 1,\n",
       "         'Boromir': 3,\n",
       "         'Bregalad': 2,\n",
       "         'Celeborn': 1,\n",
       "         'Denethor': 3,\n",
       "         'Dernhelm': 1,\n",
       "         'Elrond': 3,\n",
       "         'Elves': 3,\n",
       "         'Eomer': 12,\n",
       "         'Eowyn': 3,\n",
       "         'Faramir': 6,\n",
       "         'Frodo': 43,\n",
       "         'Galadriel': 6,\n",
       "         'Gandalf': 42,\n",
       "         'Gildor': 3,\n",
       "         'Gimli': 6,\n",
       "         'Gollum': 14,\n",
       "         'Gorbag': 2,\n",
       "         'Grishnakh': 2,\n",
       "         'Gwaihir': 1,\n",
       "         'Haldir': 1,\n",
       "         'Hobbits': 5,\n",
       "         'Legolas': 4,\n",
       "         'Lobelia': 1,\n",
       "         'Men': 1,\n",
       "         'Merry': 12,\n",
       "         'Mouth of Sauron': 3,\n",
       "         'Mr. Butterbur': 1,\n",
       "         'Narrator': 43,\n",
       "         'Orc': 4,\n",
       "         'Pippin': 11,\n",
       "         'Rosie': 1,\n",
       "         'Sam': 19,\n",
       "         'Saruman': 10,\n",
       "         'Servant': 1,\n",
       "         'Shagrat': 4,\n",
       "         'Snaga': 1,\n",
       "         'Ted Sandyman': 1,\n",
       "         'Theoden': 6,\n",
       "         'Theodred': 1,\n",
       "         'Tom Bombadil': 5,\n",
       "         'Treebeard': 6,\n",
       "         'Ugluk': 2,\n",
       "         'Wormtongue': 1})"
      ]
     },
     "execution_count": 126,
     "metadata": {},
     "output_type": "execute_result"
    }
   ],
   "source": [
    "D"
   ]
  },
  {
   "cell_type": "code",
   "execution_count": 128,
   "metadata": {},
   "outputs": [
    {
     "data": {
      "text/plain": [
       "[('Celeborn', 1),\n",
       " ('Gwaihir', 1),\n",
       " ('Snaga', 1),\n",
       " ('Ted Sandyman', 1),\n",
       " ('Men', 1),\n",
       " ('Servant', 1),\n",
       " ('Bergil', 1),\n",
       " ('Rosie', 1),\n",
       " ('Lobelia', 1),\n",
       " ('Haldir', 1),\n",
       " ('Mr. Butterbur', 1),\n",
       " ('Dernhelm', 1),\n",
       " ('Black Rider', 1),\n",
       " ('Theodred', 1),\n",
       " ('Wormtongue', 1),\n",
       " ('Ugluk', 2),\n",
       " ('Beregond', 2),\n",
       " ('Bregalad', 2),\n",
       " ('Gorbag', 2),\n",
       " ('Grishnakh', 2),\n",
       " ('Mouth of Sauron', 3),\n",
       " ('Elves', 3),\n",
       " ('Denethor', 3),\n",
       " ('Boromir', 3),\n",
       " ('Elrond', 3),\n",
       " ('Arwen', 3),\n",
       " ('Gildor', 3),\n",
       " ('Eowyn', 3),\n",
       " ('Shagrat', 4),\n",
       " ('Legolas', 4),\n",
       " ('Orc', 4),\n",
       " ('Hobbits', 5),\n",
       " ('Tom Bombadil', 5),\n",
       " ('Galadriel', 6),\n",
       " ('Gimli', 6),\n",
       " ('Theoden', 6),\n",
       " ('Faramir', 6),\n",
       " ('Treebeard', 6),\n",
       " ('Bilbo', 9),\n",
       " ('Saruman', 10),\n",
       " ('Pippin', 11),\n",
       " ('Eomer', 12),\n",
       " ('Merry', 12),\n",
       " ('Gollum', 14),\n",
       " ('Aragorn', 17),\n",
       " ('Sam', 19),\n",
       " ('Gandalf', 42),\n",
       " ('Narrator', 43),\n",
       " ('Frodo', 43)]"
      ]
     },
     "execution_count": 128,
     "metadata": {},
     "output_type": "execute_result"
    }
   ],
   "source": [
    "sorted(D.items(), key=lambda x: x[1])"
   ]
  },
  {
   "cell_type": "markdown",
   "metadata": {},
   "source": [
    "Five of the ten characters (excluding the narrator) with the most euphonically significant lines are hobbits (six if we include Gollum), and so "
   ]
  },
  {
   "cell_type": "code",
   "execution_count": 151,
   "metadata": {},
   "outputs": [
    {
     "data": {
      "image/png": "[encoded data removed]",
      "text/plain": [
       "<matplotlib.figure.Figure at 0x7f56c94923d0>"
      ]
     },
     "metadata": {},
     "output_type": "display_data"
    }
   ],
   "source": [
    "plt.figure(figsize=(16, 3))\n",
    "plt.plot(stripped_data)\n",
    "plt.show()"
   ]
  },
  {
   "cell_type": "code",
   "execution_count": null,
   "metadata": {
    "collapsed": true
   },
   "outputs": [],
   "source": []
  }
 ],
 "metadata": {
  "kernelspec": {
   "display_name": "Python 2",
   "language": "python",
   "name": "python2"
  },
  "language_info": {
   "codemirror_mode": {
    "name": "ipython",
    "version": 2
   },
   "file_extension": ".py",
   "mimetype": "text/x-python",
   "name": "python",
   "nbconvert_exporter": "python",
   "pygments_lexer": "ipython2",
   "version": "2.7.12"
  }
 },
 "nbformat": 4,
 "nbformat_minor": 2
}
