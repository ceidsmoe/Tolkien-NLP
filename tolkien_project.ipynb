{
 "cells": [
  {
   "cell_type": "code",
   "execution_count": 15,
   "metadata": {
    "collapsed": false
   },
   "outputs": [],
   "source": [
    "import json\n",
    "from pprint import pprint\n",
    "import re\n",
    "from pyspark.sql import SparkSession\n",
    "import nltk.data\n",
    "\n",
    "spark  = SparkSession.builder.master('local').appName('sou').getOrCreate()\n",
    "sc = spark.sparkContext\n",
    "lotr = spark.sparkContext.wholeTextFiles('/scratch/midway2/ceidsmoe').values()"
   ]
  },
  {
   "cell_type": "code",
   "execution_count": 3,
   "metadata": {
    "collapsed": false
   },
   "outputs": [
    {
     "data": {
      "text/plain": [
       "31351"
      ]
     },
     "execution_count": 3,
     "metadata": {},
     "output_type": "execute_result"
    }
   ],
   "source": [
    "tokenizer = nltk.data.load('tokenizers/punkt/english.pickle')\n",
    "sentences = lotr.flatMap(lambda x: tokenizer.tokenize(x))\n",
    "sentences.count()"
   ]
  },
  {
   "cell_type": "code",
   "execution_count": 14,
   "metadata": {
    "collapsed": false
   },
   "outputs": [
    {
     "data": {
      "text/plain": [
       "4407"
      ]
     },
     "execution_count": 14,
     "metadata": {},
     "output_type": "execute_result"
    }
   ],
   "source": [
    "import nltk\n",
    "import inflect\n",
    "from operator import add\n",
    "\n",
    "arpabet = nltk.corpus.cmudict.dict()\n",
    "iengine = inflect.engine()\n",
    "\n",
    "def is_number(s):\n",
    "    try:\n",
    "        f = int(s)\n",
    "        return True\n",
    "    except:\n",
    "        return False\n",
    "\n",
    "alpha = 0.05\n",
    "    \n",
    "def euphony_measure(sentence):\n",
    "    phonemes = []\n",
    "    exceptions = []\n",
    "    for word in re.split('\\W+', sentence):\n",
    "        if word == '':\n",
    "            continue\n",
    "        word = word.lower()\n",
    "        if is_number(word):\n",
    "            word = iengine.number_to_words(int(word))\n",
    "        try:\n",
    "             phonemes.append(arpabet[word][0])\n",
    "        except Exception as e:\n",
    "            exceptions.append((word, 1))\n",
    "            \n",
    "    return exceptions\n",
    "\n",
    "phonemes = sc.parallelize(sentences.map(euphony_measure).reduce(add)).reduceByKey(add)\n",
    "phonemes.count()"
   ]
  },
  {
   "cell_type": "code",
   "execution_count": null,
   "metadata": {
    "collapsed": true
   },
   "outputs": [],
   "source": []
  }
 ],
 "metadata": {
  "kernelspec": {
   "display_name": "Python 2",
   "language": "python",
   "name": "python2"
  },
  "language_info": {
   "codemirror_mode": {
    "name": "ipython",
    "version": 2
   },
   "file_extension": ".py",
   "mimetype": "text/x-python",
   "name": "python",
   "nbconvert_exporter": "python",
   "pygments_lexer": "ipython2",
   "version": "2.7.12"
  }
 },
 "nbformat": 4,
 "nbformat_minor": 2
}
